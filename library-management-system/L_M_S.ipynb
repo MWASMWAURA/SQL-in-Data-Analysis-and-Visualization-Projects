{
 "cells": [
  {
   "cell_type": "code",
   "execution_count": 1,
   "id": "0f6f2012",
   "metadata": {},
   "outputs": [],
   "source": [
    "import pandas as pd\n",
    "import mysql.connector\n",
    "\n",
    "#connect to mysql\n",
    "conn = mysql.connector.connect(\n",
    "        host = 'localhost',\n",
    "    user = 'root',\n",
    "    password = 'welcomeJAMES123',\n",
    "        database= 'db_librarymanagement')\n",
    "\n",
    "cursor = conn.cursor()"
   ]
  },
  {
   "cell_type": "code",
   "execution_count": 26,
   "id": "23b570b1",
   "metadata": {},
   "outputs": [],
   "source": [
    "df = pd.read_excel(\"publisher_values.xlsx\",header = None)"
   ]
  },
  {
   "cell_type": "code",
   "execution_count": 30,
   "id": "4000c186",
   "metadata": {},
   "outputs": [
    {
     "data": {
      "text/html": [
       "<div>\n",
       "<style scoped>\n",
       "    .dataframe tbody tr th:only-of-type {\n",
       "        vertical-align: middle;\n",
       "    }\n",
       "\n",
       "    .dataframe tbody tr th {\n",
       "        vertical-align: top;\n",
       "    }\n",
       "\n",
       "    .dataframe thead th {\n",
       "        text-align: right;\n",
       "    }\n",
       "</style>\n",
       "<table border=\"1\" class=\"dataframe\">\n",
       "  <thead>\n",
       "    <tr style=\"text-align: right;\">\n",
       "      <th></th>\n",
       "      <th>0</th>\n",
       "      <th>1</th>\n",
       "      <th>2</th>\n",
       "      <th>3</th>\n",
       "    </tr>\n",
       "  </thead>\n",
       "  <tbody>\n",
       "    <tr>\n",
       "      <th>0</th>\n",
       "      <td>NaN</td>\n",
       "      <td>DAW Books</td>\n",
       "      <td>375 Hudson Street, New York, NY 10014</td>\n",
       "      <td>212-366-2000</td>\n",
       "    </tr>\n",
       "    <tr>\n",
       "      <th>1</th>\n",
       "      <td>NaN</td>\n",
       "      <td>Viking</td>\n",
       "      <td>375 Hudson Street, New York, NY 10014</td>\n",
       "      <td>212-366-2000</td>\n",
       "    </tr>\n",
       "    <tr>\n",
       "      <th>2</th>\n",
       "      <td>NaN</td>\n",
       "      <td>Signet Books</td>\n",
       "      <td>375 Hudson Street, New York, NY 10014</td>\n",
       "      <td>212-366-2000</td>\n",
       "    </tr>\n",
       "    <tr>\n",
       "      <th>3</th>\n",
       "      <td>NaN</td>\n",
       "      <td>Chilton Books</td>\n",
       "      <td>Not Available</td>\n",
       "      <td>Not Available</td>\n",
       "    </tr>\n",
       "    <tr>\n",
       "      <th>4</th>\n",
       "      <td>NaN</td>\n",
       "      <td>George Allen &amp; Unwin</td>\n",
       "      <td>83 Alexander Ln, Crows Nest NSW 2065, Australia</td>\n",
       "      <td>+61-2-8425-100</td>\n",
       "    </tr>\n",
       "  </tbody>\n",
       "</table>\n",
       "</div>"
      ],
      "text/plain": [
       "    0                     1                                                2  \\\n",
       "0 NaN             DAW Books            375 Hudson Street, New York, NY 10014   \n",
       "1 NaN                Viking            375 Hudson Street, New York, NY 10014   \n",
       "2 NaN          Signet Books            375 Hudson Street, New York, NY 10014   \n",
       "3 NaN         Chilton Books                                    Not Available   \n",
       "4 NaN  George Allen & Unwin  83 Alexander Ln, Crows Nest NSW 2065, Australia   \n",
       "\n",
       "                3  \n",
       "0    212-366-2000  \n",
       "1    212-366-2000  \n",
       "2    212-366-2000  \n",
       "3   Not Available  \n",
       "4  +61-2-8425-100  "
      ]
     },
     "execution_count": 30,
     "metadata": {},
     "output_type": "execute_result"
    }
   ],
   "source": [
    "df.head()"
   ]
  },
  {
   "cell_type": "code",
   "execution_count": 31,
   "id": "e069b124",
   "metadata": {},
   "outputs": [
    {
     "data": {
      "text/html": [
       "<div>\n",
       "<style scoped>\n",
       "    .dataframe tbody tr th:only-of-type {\n",
       "        vertical-align: middle;\n",
       "    }\n",
       "\n",
       "    .dataframe tbody tr th {\n",
       "        vertical-align: top;\n",
       "    }\n",
       "\n",
       "    .dataframe thead th {\n",
       "        text-align: right;\n",
       "    }\n",
       "</style>\n",
       "<table border=\"1\" class=\"dataframe\">\n",
       "  <thead>\n",
       "    <tr style=\"text-align: right;\">\n",
       "      <th></th>\n",
       "      <th>1</th>\n",
       "      <th>2</th>\n",
       "      <th>3</th>\n",
       "    </tr>\n",
       "  </thead>\n",
       "  <tbody>\n",
       "    <tr>\n",
       "      <th>0</th>\n",
       "      <td>DAW Books</td>\n",
       "      <td>375 Hudson Street, New York, NY 10014</td>\n",
       "      <td>212-366-2000</td>\n",
       "    </tr>\n",
       "    <tr>\n",
       "      <th>1</th>\n",
       "      <td>Viking</td>\n",
       "      <td>375 Hudson Street, New York, NY 10014</td>\n",
       "      <td>212-366-2000</td>\n",
       "    </tr>\n",
       "    <tr>\n",
       "      <th>2</th>\n",
       "      <td>Signet Books</td>\n",
       "      <td>375 Hudson Street, New York, NY 10014</td>\n",
       "      <td>212-366-2000</td>\n",
       "    </tr>\n",
       "    <tr>\n",
       "      <th>3</th>\n",
       "      <td>Chilton Books</td>\n",
       "      <td>Not Available</td>\n",
       "      <td>Not Available</td>\n",
       "    </tr>\n",
       "    <tr>\n",
       "      <th>4</th>\n",
       "      <td>George Allen &amp; Unwin</td>\n",
       "      <td>83 Alexander Ln, Crows Nest NSW 2065, Australia</td>\n",
       "      <td>+61-2-8425-100</td>\n",
       "    </tr>\n",
       "  </tbody>\n",
       "</table>\n",
       "</div>"
      ],
      "text/plain": [
       "                      1                                                2  \\\n",
       "0             DAW Books            375 Hudson Street, New York, NY 10014   \n",
       "1                Viking            375 Hudson Street, New York, NY 10014   \n",
       "2          Signet Books            375 Hudson Street, New York, NY 10014   \n",
       "3         Chilton Books                                    Not Available   \n",
       "4  George Allen & Unwin  83 Alexander Ln, Crows Nest NSW 2065, Australia   \n",
       "\n",
       "                3  \n",
       "0    212-366-2000  \n",
       "1    212-366-2000  \n",
       "2    212-366-2000  \n",
       "3   Not Available  \n",
       "4  +61-2-8425-100  "
      ]
     },
     "execution_count": 31,
     "metadata": {},
     "output_type": "execute_result"
    }
   ],
   "source": [
    "df=df.drop(0,axis=1)\n",
    "df.head()"
   ]
  },
  {
   "cell_type": "code",
   "execution_count": 32,
   "id": "4b591a68",
   "metadata": {},
   "outputs": [],
   "source": [
    "for _,row in df.iterrows():\n",
    "    sql= \"INSERT INTO tbl_publisher (publisher_PublisherName, publisher_PublisherAddress, publisher_PublisherPhone) VALUES (%s,%s,%s)\"\n",
    "    cursor.execute(sql,tuple(row))\n",
    "    "
   ]
  },
  {
   "cell_type": "code",
   "execution_count": 33,
   "id": "cda7dc15",
   "metadata": {},
   "outputs": [],
   "source": [
    "# COMMIT AND CLOSE THE CONNECTION\n",
    "conn.commit()\n",
    "cursor.close()\n",
    "conn.close()"
   ]
  },
  {
   "cell_type": "code",
   "execution_count": null,
   "id": "6a78e850",
   "metadata": {},
   "outputs": [],
   "source": []
  }
 ],
 "metadata": {
  "kernelspec": {
   "display_name": "Python 3 (ipykernel)",
   "language": "python",
   "name": "python3"
  },
  "language_info": {
   "codemirror_mode": {
    "name": "ipython",
    "version": 3
   },
   "file_extension": ".py",
   "mimetype": "text/x-python",
   "name": "python",
   "nbconvert_exporter": "python",
   "pygments_lexer": "ipython3",
   "version": "3.10.9"
  }
 },
 "nbformat": 4,
 "nbformat_minor": 5
}
